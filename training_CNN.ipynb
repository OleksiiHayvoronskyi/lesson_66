{
 "cells": [
  {
   "cell_type": "markdown",
   "source": [
    "# <font color='red'>CNN Training</font>"
   ],
   "metadata": {
    "collapsed": false
   }
  },
  {
   "cell_type": "code",
   "execution_count": null,
   "outputs": [],
   "source": [
    "# Required libraries.\n",
    "import numpy as np\n",
    "from sklearn.model_selection import train_test_split\n",
    "from keras.models import Sequential\n",
    "from keras.layers import Dense, Activation, Flatten, Dropout\n",
    "from keras.layers import Conv2D, MaxPooling2D\n",
    "from keras.callbacks import ModelCheckpoint\n",
    "from matplotlib import pyplot as plt"
   ],
   "metadata": {
    "collapsed": false
   }
  },
  {
   "cell_type": "code",
   "execution_count": 2,
   "outputs": [],
   "source": [
    "# Loading the save numpy arrays in the previous code.\n",
    "data = np.load('data.npy')\n",
    "target = np.load('target.npy')"
   ],
   "metadata": {
    "collapsed": false
   }
  },
  {
   "cell_type": "code",
   "execution_count": 3,
   "outputs": [
    {
     "name": "stdout",
     "output_type": "stream",
     "text": [
      "--- Created Convolutional Neural Network ---\n",
      "Model: \"sequential\"\n",
      "_________________________________________________________________\n",
      " Layer (type)                Output Shape              Param #   \n",
      "=================================================================\n",
      " conv2d (Conv2D)             (None, 98, 98, 200)       2000      \n",
      "                                                                 \n",
      " activation (Activation)     (None, 98, 98, 200)       0         \n",
      "                                                                 \n",
      " max_pooling2d (MaxPooling2D  (None, 49, 49, 200)      0         \n",
      " )                                                               \n",
      "                                                                 \n",
      " conv2d_1 (Conv2D)           (None, 47, 47, 100)       180100    \n",
      "                                                                 \n",
      " activation_1 (Activation)   (None, 47, 47, 100)       0         \n",
      "                                                                 \n",
      " max_pooling2d_1 (MaxPooling  (None, 23, 23, 100)      0         \n",
      " 2D)                                                             \n",
      "                                                                 \n",
      " flatten (Flatten)           (None, 52900)             0         \n",
      "                                                                 \n",
      " dropout (Dropout)           (None, 52900)             0         \n",
      "                                                                 \n",
      " dense (Dense)               (None, 50)                2645050   \n",
      "                                                                 \n",
      " dense_1 (Dense)             (None, 2)                 102       \n",
      "                                                                 \n",
      "=================================================================\n",
      "Total params: 2,827,252\n",
      "Trainable params: 2,827,252\n",
      "Non-trainable params: 0\n",
      "_________________________________________________________________\n"
     ]
    }
   ],
   "source": [
    "# Initializing a sequential keras model\n",
    "model = Sequential()\n",
    "\n",
    "# The first CNN layer followed by Relu and MaxPooling layers:\n",
    "# Adding a 2D convolution layer.\n",
    "model.add(Conv2D(200, (3, 3), input_shape=data.shape[1:]))\n",
    "# Adding an activation layer.\n",
    "model.add(Activation('relu'))\n",
    "# Adding a max-pooling layer.\n",
    "model.add(MaxPooling2D(pool_size=(2, 2)))\n",
    "\n",
    "# The second convolution layer followed by Relu and MaxPooling layers:\n",
    "# Adding a 2D convolution layer.\n",
    "model.add(Conv2D(100, (3, 3)))\n",
    "# Adding an activation layer.\n",
    "model.add(Activation('relu'))\n",
    "# Adding a max-pooling layer.\n",
    "model.add(MaxPooling2D(pool_size=(2, 2)))\n",
    "\n",
    "\n",
    "# Flatten layer to stack the output convolutions from second convolution layer:\n",
    "# Adding a flatten layer.\n",
    "model.add(Flatten())\n",
    "# Adding a dropout.\n",
    "model.add(Dropout(0.5))\n",
    "\n",
    "# Dense layer of 64 neurons.\n",
    "model.add(Dense(50, activation='relu'))\n",
    "\n",
    "# The Final layer with two outputs for two categories.\n",
    "model.add(Dense(2, activation='softmax'))\n",
    "\n",
    "model.compile(loss='categorical_crossentropy',\n",
    "              optimizer='adam', metrics=['accuracy'])\n",
    "\n",
    "# Printing the model summary.\n",
    "print('--- Created Convolutional Neural Network ---')\n",
    "model.summary()"
   ],
   "metadata": {
    "collapsed": false
   }
  },
  {
   "cell_type": "code",
   "execution_count": 5,
   "outputs": [],
   "source": [
    "# Splittin the data into train and test set.\n",
    "train_data, test_data, train_target, test_target = \\\n",
    "    train_test_split(data, target, test_size=0.1)"
   ],
   "metadata": {
    "collapsed": false
   }
  },
  {
   "cell_type": "code",
   "execution_count": 6,
   "outputs": [
    {
     "name": "stdout",
     "output_type": "stream",
     "text": [
      "Epoch 1/20\n",
      "31/31 [==============================] - ETA: 0s - loss: 0.6723 - accuracy: 0.5899"
     ]
    },
    {
     "name": "stderr",
     "output_type": "stream",
     "text": [
      "WARNING:absl:Found untraced functions such as _jit_compiled_convolution_op, _jit_compiled_convolution_op, _update_step_xla while saving (showing 3 of 3). These functions will not be directly callable after loading.\n"
     ]
    },
    {
     "name": "stdout",
     "output_type": "stream",
     "text": [
      "INFO:tensorflow:Assets written to: model-001.model\\assets\n"
     ]
    },
    {
     "name": "stderr",
     "output_type": "stream",
     "text": [
      "INFO:tensorflow:Assets written to: model-001.model\\assets\n"
     ]
    },
    {
     "name": "stdout",
     "output_type": "stream",
     "text": [
      "31/31 [==============================] - 193s 6s/step - loss: 0.6723 - accuracy: 0.5899 - val_loss: 0.5675 - val_accuracy: 0.6734\n",
      "Epoch 2/20\n",
      "31/31 [==============================] - ETA: 0s - loss: 0.4337 - accuracy: 0.8081"
     ]
    },
    {
     "name": "stderr",
     "output_type": "stream",
     "text": [
      "WARNING:absl:Found untraced functions such as _jit_compiled_convolution_op, _jit_compiled_convolution_op, _update_step_xla while saving (showing 3 of 3). These functions will not be directly callable after loading.\n"
     ]
    },
    {
     "name": "stdout",
     "output_type": "stream",
     "text": [
      "INFO:tensorflow:Assets written to: model-002.model\\assets\n"
     ]
    },
    {
     "name": "stderr",
     "output_type": "stream",
     "text": [
      "INFO:tensorflow:Assets written to: model-002.model\\assets\n"
     ]
    },
    {
     "name": "stdout",
     "output_type": "stream",
     "text": [
      "31/31 [==============================] - 142s 5s/step - loss: 0.4337 - accuracy: 0.8081 - val_loss: 0.2529 - val_accuracy: 0.9234\n",
      "Epoch 3/20\n",
      "31/31 [==============================] - ETA: 0s - loss: 0.3280 - accuracy: 0.8636"
     ]
    },
    {
     "name": "stderr",
     "output_type": "stream",
     "text": [
      "WARNING:absl:Found untraced functions such as _jit_compiled_convolution_op, _jit_compiled_convolution_op, _update_step_xla while saving (showing 3 of 3). These functions will not be directly callable after loading.\n"
     ]
    },
    {
     "name": "stdout",
     "output_type": "stream",
     "text": [
      "INFO:tensorflow:Assets written to: model-003.model\\assets\n"
     ]
    },
    {
     "name": "stderr",
     "output_type": "stream",
     "text": [
      "INFO:tensorflow:Assets written to: model-003.model\\assets\n"
     ]
    },
    {
     "name": "stdout",
     "output_type": "stream",
     "text": [
      "31/31 [==============================] - 139s 4s/step - loss: 0.3280 - accuracy: 0.8636 - val_loss: 0.1848 - val_accuracy: 0.9395\n",
      "Epoch 4/20\n",
      "31/31 [==============================] - ETA: 0s - loss: 0.1857 - accuracy: 0.9364"
     ]
    },
    {
     "name": "stderr",
     "output_type": "stream",
     "text": [
      "WARNING:absl:Found untraced functions such as _jit_compiled_convolution_op, _jit_compiled_convolution_op, _update_step_xla while saving (showing 3 of 3). These functions will not be directly callable after loading.\n"
     ]
    },
    {
     "name": "stdout",
     "output_type": "stream",
     "text": [
      "INFO:tensorflow:Assets written to: model-004.model\\assets\n"
     ]
    },
    {
     "name": "stderr",
     "output_type": "stream",
     "text": [
      "INFO:tensorflow:Assets written to: model-004.model\\assets\n"
     ]
    },
    {
     "name": "stdout",
     "output_type": "stream",
     "text": [
      "31/31 [==============================] - 135s 4s/step - loss: 0.1857 - accuracy: 0.9364 - val_loss: 0.1379 - val_accuracy: 0.9597\n",
      "Epoch 5/20\n",
      "31/31 [==============================] - 144s 5s/step - loss: 0.1501 - accuracy: 0.9394 - val_loss: 0.1980 - val_accuracy: 0.9234\n",
      "Epoch 6/20\n",
      "31/31 [==============================] - ETA: 0s - loss: 0.1401 - accuracy: 0.9515"
     ]
    },
    {
     "name": "stderr",
     "output_type": "stream",
     "text": [
      "WARNING:absl:Found untraced functions such as _jit_compiled_convolution_op, _jit_compiled_convolution_op, _update_step_xla while saving (showing 3 of 3). These functions will not be directly callable after loading.\n"
     ]
    },
    {
     "name": "stdout",
     "output_type": "stream",
     "text": [
      "INFO:tensorflow:Assets written to: model-006.model\\assets\n"
     ]
    },
    {
     "name": "stderr",
     "output_type": "stream",
     "text": [
      "INFO:tensorflow:Assets written to: model-006.model\\assets\n"
     ]
    },
    {
     "name": "stdout",
     "output_type": "stream",
     "text": [
      "31/31 [==============================] - 147s 5s/step - loss: 0.1401 - accuracy: 0.9515 - val_loss: 0.0968 - val_accuracy: 0.9758\n",
      "Epoch 7/20\n",
      "31/31 [==============================] - 135s 4s/step - loss: 0.0736 - accuracy: 0.9727 - val_loss: 0.1163 - val_accuracy: 0.9637\n",
      "Epoch 8/20\n",
      "31/31 [==============================] - 148s 5s/step - loss: 0.0524 - accuracy: 0.9808 - val_loss: 0.1316 - val_accuracy: 0.9516\n",
      "Epoch 9/20\n",
      "31/31 [==============================] - ETA: 0s - loss: 0.0383 - accuracy: 0.9919"
     ]
    },
    {
     "name": "stderr",
     "output_type": "stream",
     "text": [
      "WARNING:absl:Found untraced functions such as _jit_compiled_convolution_op, _jit_compiled_convolution_op, _update_step_xla while saving (showing 3 of 3). These functions will not be directly callable after loading.\n"
     ]
    },
    {
     "name": "stdout",
     "output_type": "stream",
     "text": [
      "INFO:tensorflow:Assets written to: model-009.model\\assets\n"
     ]
    },
    {
     "name": "stderr",
     "output_type": "stream",
     "text": [
      "INFO:tensorflow:Assets written to: model-009.model\\assets\n"
     ]
    },
    {
     "name": "stdout",
     "output_type": "stream",
     "text": [
      "31/31 [==============================] - 147s 5s/step - loss: 0.0383 - accuracy: 0.9919 - val_loss: 0.0802 - val_accuracy: 0.9798\n",
      "Epoch 10/20\n",
      "31/31 [==============================] - 138s 4s/step - loss: 0.0539 - accuracy: 0.9828 - val_loss: 0.1024 - val_accuracy: 0.9718\n",
      "Epoch 11/20\n",
      "31/31 [==============================] - ETA: 0s - loss: 0.0369 - accuracy: 0.9879"
     ]
    },
    {
     "name": "stderr",
     "output_type": "stream",
     "text": [
      "WARNING:absl:Found untraced functions such as _jit_compiled_convolution_op, _jit_compiled_convolution_op, _update_step_xla while saving (showing 3 of 3). These functions will not be directly callable after loading.\n"
     ]
    },
    {
     "name": "stdout",
     "output_type": "stream",
     "text": [
      "INFO:tensorflow:Assets written to: model-011.model\\assets\n"
     ]
    },
    {
     "name": "stderr",
     "output_type": "stream",
     "text": [
      "INFO:tensorflow:Assets written to: model-011.model\\assets\n"
     ]
    },
    {
     "name": "stdout",
     "output_type": "stream",
     "text": [
      "31/31 [==============================] - 128s 4s/step - loss: 0.0369 - accuracy: 0.9879 - val_loss: 0.0753 - val_accuracy: 0.9758\n",
      "Epoch 12/20\n",
      "31/31 [==============================] - 150s 5s/step - loss: 0.0248 - accuracy: 0.9919 - val_loss: 0.0948 - val_accuracy: 0.9718\n",
      "Epoch 13/20\n",
      "31/31 [==============================] - 125s 4s/step - loss: 0.0153 - accuracy: 0.9960 - val_loss: 0.1026 - val_accuracy: 0.9718\n",
      "Epoch 14/20\n",
      "31/31 [==============================] - 124s 4s/step - loss: 0.0345 - accuracy: 0.9889 - val_loss: 0.1831 - val_accuracy: 0.9435\n",
      "Epoch 15/20\n",
      "31/31 [==============================] - 154s 5s/step - loss: 0.0304 - accuracy: 0.9899 - val_loss: 0.0799 - val_accuracy: 0.9718\n",
      "Epoch 16/20\n",
      "31/31 [==============================] - 146s 5s/step - loss: 0.0148 - accuracy: 0.9949 - val_loss: 0.0829 - val_accuracy: 0.9758\n",
      "Epoch 17/20\n",
      "31/31 [==============================] - 128s 4s/step - loss: 0.0044 - accuracy: 0.9990 - val_loss: 0.1159 - val_accuracy: 0.9718\n",
      "Epoch 18/20\n",
      "31/31 [==============================] - 153s 5s/step - loss: 0.0161 - accuracy: 0.9949 - val_loss: 0.0917 - val_accuracy: 0.9718\n",
      "Epoch 19/20\n",
      "31/31 [==============================] - 137s 4s/step - loss: 0.0239 - accuracy: 0.9939 - val_loss: 0.1136 - val_accuracy: 0.9556\n",
      "Epoch 20/20\n",
      "31/31 [==============================] - 147s 5s/step - loss: 0.0203 - accuracy: 0.9939 - val_loss: 0.0851 - val_accuracy: 0.9718\n"
     ]
    }
   ],
   "source": [
    "# Initialize a callback checkpoint to keep saving best model\n",
    "# after each epoch while training.\n",
    "checkpoint = ModelCheckpoint('model-{epoch:03d}.model',\n",
    "                             monitor='val_loss',\n",
    "                             verbose=0,\n",
    "                             save_best_only=True,\n",
    "                             mode='auto')\n",
    "\n",
    "# Training the model.\n",
    "history = model.fit(train_data,train_target,\n",
    "                    epochs=20, callbacks=[checkpoint],\n",
    "                    validation_split=0.2)"
   ],
   "metadata": {
    "collapsed": false
   }
  },
  {
   "cell_type": "code",
   "execution_count": 7,
   "outputs": [
    {
     "data": {
      "text/plain": "<Figure size 640x480 with 1 Axes>",
      "image/png": "[encoded data removed]"
     },
     "metadata": {},
     "output_type": "display_data"
    }
   ],
   "source": [
    "# Visualization of losses.\n",
    "plt.plot(history.history['loss'], 'r', label='training loss')\n",
    "plt.plot(history.history['val_loss'], label='validation loss')\n",
    "plt.xlabel('epochs')\n",
    "plt.ylabel('loss')\n",
    "plt.legend()\n",
    "plt.show()"
   ],
   "metadata": {
    "collapsed": false
   }
  },
  {
   "cell_type": "code",
   "execution_count": 8,
   "outputs": [
    {
     "data": {
      "text/plain": "<Figure size 640x480 with 1 Axes>",
      "image/png": "[encoded data removed]"
     },
     "metadata": {},
     "output_type": "display_data"
    }
   ],
   "source": [
    "# Visualization of accuracy.\n",
    "plt.plot(history.history['accuracy'], 'r', label='training accuracy')\n",
    "plt.plot(history.history['val_accuracy'], label='validation accuracy')\n",
    "plt.xlabel('epochs')\n",
    "plt.ylabel('loss')\n",
    "plt.legend()\n",
    "plt.show()"
   ],
   "metadata": {
    "collapsed": false
   }
  },
  {
   "cell_type": "code",
   "execution_count": 37,
   "outputs": [
    {
     "name": "stdout",
     "output_type": "stream",
     "text": [
      "5/5 [==============================] - 5s 812ms/step - loss: 0.2986 - accuracy: 0.9275\n",
      "[0.29859697818756104, 0.9275362491607666]\n"
     ]
    }
   ],
   "source": [
    "# Accuracy of the model.\n",
    "print(model.evaluate(test_data, test_target))"
   ],
   "metadata": {
    "collapsed": false
   }
  },
  {
   "cell_type": "code",
   "execution_count": null,
   "outputs": [],
   "source": [],
   "metadata": {
    "collapsed": false
   }
  }
 ],
 "metadata": {
  "kernelspec": {
   "display_name": "Python 3",
   "language": "python",
   "name": "python3"
  },
  "language_info": {
   "codemirror_mode": {
    "name": "ipython",
    "version": 2
   },
   "file_extension": ".py",
   "mimetype": "text/x-python",
   "name": "python",
   "nbconvert_exporter": "python",
   "pygments_lexer": "ipython2",
   "version": "2.7.6"
  }
 },
 "nbformat": 4,
 "nbformat_minor": 0
}
