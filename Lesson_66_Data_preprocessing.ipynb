{
 "cells": [
  {
   "cell_type": "markdown",
   "source": [
    "**Завдання**\n",
    "## <font color='blue'>Побудувати систему детекції медичних масок на обличчі, використовуючи датасет **data.zip**.</font>"
   ],
   "metadata": {
    "collapsed": false
   }
  },
  {
   "cell_type": "markdown",
   "source": [
    "# <font color='red'>Data preprocessing stage</font>"
   ],
   "metadata": {
    "collapsed": false
   }
  },
  {
   "cell_type": "code",
   "execution_count": 1,
   "outputs": [],
   "source": [
    "# Required libraries.\n",
    "from keras.utils import np_utils\n",
    "import numpy as np\n",
    "import cv2\n",
    "import os"
   ],
   "metadata": {
    "collapsed": false
   }
  },
  {
   "cell_type": "code",
   "execution_count": 4,
   "outputs": [
    {
     "name": "stdout",
     "output_type": "stream",
     "text": [
      "{'without_mask': 0, 'with_mask': 1}\n",
      "['without_mask', 'with_mask']\n",
      "[0, 1]\n"
     ]
    }
   ],
   "source": [
    "#data_path = 'E:/Python DEVELOPER/StartUpAcademy/lectures/Лекція 66. Робота з відеоформатом/dataset'\n",
    "\n",
    "data_path = 'dataset'\n",
    "categories = os.listdir(data_path)\n",
    "labels = [i for i in range (len(categories))]\n",
    "\n",
    "label_dict = dict(zip(categories, labels))\n",
    "\n",
    "print(label_dict)\n",
    "print(categories)\n",
    "print(labels)"
   ],
   "metadata": {
    "collapsed": false
   }
  },
  {
   "cell_type": "code",
   "execution_count": 5,
   "outputs": [],
   "source": [
    "img_size = 100\n",
    "data = []\n",
    "target = []\n",
    "\n",
    "for category in categories:\n",
    "\tfolder_path = os.path.join(data_path, category)\n",
    "\timg_names = os.listdir(folder_path)\n",
    "\n",
    "\tfor img_name in img_names:\n",
    "\t\timg_path = os.path.join(folder_path, img_name)\n",
    "\t\timg= cv2.imread(img_path)\n",
    "\n",
    "\t\ttry:\n",
    "\t\t\t# Coverting the image into gray scale.\n",
    "\t\t\tgray = cv2.cvtColor(img, cv2.COLOR_BGR2GRAY)\n",
    "\t\t\t# Resizing the gray scale into 50 x 50.\n",
    "\t\t\t# We need a fixed common size for all the images in the dataset.\n",
    "\t\t\tresized = cv2.resize(gray, (img_size, img_size))\n",
    "\t\t\tdata.append(resized)\n",
    "\t\t\t# Appending the image and the label (categorized) into the list (dataset).\n",
    "\t\t\ttarget.append(label_dict[category])\n",
    "\n",
    "        # If any exception rasied, the exception will be printed here.\n",
    "\t\t# And pass to the next image.\n",
    "\t\texcept Exception as exp:\n",
    "\t\t\tprint('Exception', exp)"
   ],
   "metadata": {
    "collapsed": false
   }
  },
  {
   "cell_type": "code",
   "execution_count": 6,
   "outputs": [],
   "source": [
    "data = np.array(data) / 255.0\n",
    "data = np.reshape(data, (data.shape[0], img_size, img_size, 1))\n",
    "\n",
    "target = np.array(target)\n",
    "\n",
    "new_target = np_utils.to_categorical(target)"
   ],
   "metadata": {
    "collapsed": false
   }
  },
  {
   "cell_type": "code",
   "execution_count": 7,
   "outputs": [],
   "source": [
    "np.save('data', data)\n",
    "np.save('target', new_target)"
   ],
   "metadata": {
    "collapsed": false
   }
  },
  {
   "cell_type": "code",
   "execution_count": null,
   "outputs": [],
   "source": [],
   "metadata": {
    "collapsed": false
   }
  }
 ],
 "metadata": {
  "kernelspec": {
   "display_name": "Python 3",
   "language": "python",
   "name": "python3"
  },
  "language_info": {
   "codemirror_mode": {
    "name": "ipython",
    "version": 2
   },
   "file_extension": ".py",
   "mimetype": "text/x-python",
   "name": "python",
   "nbconvert_exporter": "python",
   "pygments_lexer": "ipython2",
   "version": "2.7.6"
  }
 },
 "nbformat": 4,
 "nbformat_minor": 0
}
